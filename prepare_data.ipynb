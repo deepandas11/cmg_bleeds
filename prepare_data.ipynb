{
 "cells": [
  {
   "cell_type": "code",
   "execution_count": 1,
   "metadata": {},
   "outputs": [],
   "source": [
    "import os\n",
    "import sys\n",
    "import json\n",
    "import numpy as np\n",
    "import torch\n",
    "import torch.nn as nn\n",
    "from torch.autograd import Variable\n",
    "import torchvision.models\n",
    "\n",
    "\n",
    "import models\n",
    "\n",
    "%load_ext autoreload\n",
    "%autoreload 2"
   ]
  },
  {
   "cell_type": "code",
   "execution_count": 19,
   "metadata": {},
   "outputs": [],
   "source": [
    "data_path = \"../data/\"\n",
    "training_data_path = 'Data/DataSet13_20200221/raw_patient_based/Training/'\n",
    "testing_data_path = 'Data/DataSet13_20200221/raw_patient_based/Testing/'\n",
    "paths = [training_data_path, testing_data_path]\n",
    "categories = {\"Bleeding\":1, \"NonBleeding\":0}"
   ]
  },
  {
   "cell_type": "code",
   "execution_count": 102,
   "metadata": {
    "scrolled": true
   },
   "outputs": [
    {
     "name": "stdout",
     "output_type": "stream",
     "text": [
      "\t ../data/Data/DataSet13_20200221/raw_patient_based/Training/Bleeding\n",
      "\t ../data/Data/DataSet13_20200221/raw_patient_based/Training/NonBleeding\n"
     ]
    }
   ],
   "source": [
    "# Training Data\n",
    "train_data = {}\n",
    "index_count = 0\n",
    "index = 0\n",
    "\n",
    "path = training_data_path\n",
    "for category in categories:\n",
    "\n",
    "    current_directory = os.path.join(data_path, path, category)\n",
    "    print('\\t',current_directory)\n",
    "    for patient_folder in os.listdir(current_directory):\n",
    "        if not patient_folder.startswith('Patient'):\n",
    "            continue\n",
    "        \n",
    "        patient_path = os.path.join(current_directory, patient_folder)\n",
    "        \n",
    "        patient_files = os.listdir(patient_path)\n",
    "        patient_label = categories[category]\n",
    "        \n",
    "        \n",
    "        elem = {\"seq_label\": patient_label, \"sequence\": {}}\n",
    "        \n",
    "        for file in patient_files:\n",
    "\n",
    "            if file.endswith('.tif') or file.endswith('.jpg'):\n",
    "                if category == 'Bleeding':\n",
    "                    patient_seq = file.split('.')[0]\n",
    "                    seq_num = int(patient_seq.split('_')[1])\n",
    "                    patient_num = patient_seq.split('_')[0]\n",
    "                    elem[\"patient_id\"] = patient_num\n",
    "                else:\n",
    "                    patient_num = file.split('.')[0]\n",
    "                    seq_num = int(file.split('.')[1])\n",
    "                    elem[\"patient_id\"] = patient_num\n",
    "                image_path = os.path.join('/',category, patient_folder, file)\n",
    "                elem[\"sequence\"][seq_num] = image_path\n",
    "                \n",
    "        elem[\"sequence\"] = dict(sorted(elem[\"sequence\"].items(), key=lambda t: t[0]))\n",
    "        \n",
    "        train_data[index_count] = elem\n",
    "        index_count += 1\n"
   ]
  },
  {
   "cell_type": "code",
   "execution_count": 103,
   "metadata": {
    "scrolled": true
   },
   "outputs": [],
   "source": [
    "f = open(\"train_meta.json\", 'w') \n",
    "json.dump(train_data, f)"
   ]
  },
  {
   "cell_type": "code",
   "execution_count": 106,
   "metadata": {},
   "outputs": [
    {
     "name": "stdout",
     "output_type": "stream",
     "text": [
      "\t ../data/Data/DataSet13_20200221/raw_patient_based/Testing/Bleeding\n",
      "\t ../data/Data/DataSet13_20200221/raw_patient_based/Testing/NonBleeding\n"
     ]
    }
   ],
   "source": [
    "# Testing Data\n",
    "test_data = {}\n",
    "index_count = 0\n",
    "index = 0\n",
    "\n",
    "path = testing_data_path\n",
    "for category in categories:\n",
    "\n",
    "    current_directory = os.path.join(data_path, path, category)\n",
    "    print('\\t',current_directory)\n",
    "    for patient_folder in os.listdir(current_directory):\n",
    "        if not patient_folder.startswith('Patient'):\n",
    "            continue\n",
    "        \n",
    "        patient_path = os.path.join(current_directory, patient_folder)\n",
    "        \n",
    "        patient_files = os.listdir(patient_path)\n",
    "        patient_label = categories[category]\n",
    "        \n",
    "        \n",
    "        elem = {\"seq_label\": patient_label, \"sequence\": {}}\n",
    "        \n",
    "        for file in patient_files:\n",
    "                if file.endswith('.jpg'):\n",
    "                    patient_seq = file.split('.')[0]\n",
    "                    seq_num = int(patient_seq.split('_')[1])\n",
    "                    patient_num = patient_seq.split('_')[0]\n",
    "                    elem[\"patient_id\"] = patient_num\n",
    "                    image_path = os.path.join('/',category, patient_folder, file)\n",
    "                    elem[\"sequence\"][seq_num] = image_path\n",
    "\n",
    "                image_path = os.path.join('/',category, patient_folder, file)\n",
    "                elem[\"sequence\"][seq_num] = image_path\n",
    "                \n",
    "        elem[\"sequence\"] = dict(sorted(elem[\"sequence\"].items(), key=lambda t: t[0]))\n",
    "        \n",
    "        test_data[index_count] = elem\n",
    "        index_count += 1\n"
   ]
  },
  {
   "cell_type": "code",
   "execution_count": 108,
   "metadata": {},
   "outputs": [],
   "source": [
    "f = open(\"test_meta.json\", 'w') \n",
    "json.dump(test_data, f)"
   ]
  },
  {
   "cell_type": "markdown",
   "metadata": {},
   "source": [
    "# Demonstration of how to use data"
   ]
  },
  {
   "cell_type": "code",
   "execution_count": 109,
   "metadata": {},
   "outputs": [],
   "source": [
    "meta_data = json.load(open('train_meta.json'))"
   ]
  },
  {
   "cell_type": "code",
   "execution_count": 110,
   "metadata": {},
   "outputs": [],
   "source": [
    "patient_ids = list(meta_data.keys())"
   ]
  },
  {
   "cell_type": "code",
   "execution_count": 111,
   "metadata": {},
   "outputs": [],
   "source": [
    "patient_data = patient_ids[0]"
   ]
  },
  {
   "cell_type": "code",
   "execution_count": 112,
   "metadata": {},
   "outputs": [
    {
     "data": {
      "text/plain": [
       "{'seq_label': 1,\n",
       " 'sequence': {'7': '/Bleeding/Patient 54/54_7.tif',\n",
       "  '35': '/Bleeding/Patient 54/54_35.tif',\n",
       "  '37': '/Bleeding/Patient 54/54_37.tif',\n",
       "  '41': '/Bleeding/Patient 54/54_41.tif',\n",
       "  '44': '/Bleeding/Patient 54/54_44.tif',\n",
       "  '48': '/Bleeding/Patient 54/54_48.tif',\n",
       "  '52': '/Bleeding/Patient 54/54_52.tif',\n",
       "  '54': '/Bleeding/Patient 54/54_54.tif'},\n",
       " 'patient_id': '54'}"
      ]
     },
     "execution_count": 112,
     "metadata": {},
     "output_type": "execute_result"
    }
   ],
   "source": [
    "meta_data[patient_data]"
   ]
  },
  {
   "cell_type": "markdown",
   "metadata": {},
   "source": [
    "# Demonstration of using the Models"
   ]
  },
  {
   "cell_type": "code",
   "execution_count": 4,
   "metadata": {},
   "outputs": [],
   "source": [
    "from dataloader import trainloader\n",
    "from torchvision import transforms\n",
    "\n",
    "transform = transforms.Compose([\n",
    "    transforms.Resize((224, 224)),\n",
    "    transforms.ToTensor(),\n",
    "    transforms.Normalize((0.485, 0.456, 0.406),\n",
    "                         (0.229, 0.224, 0.225))])"
   ]
  },
  {
   "cell_type": "code",
   "execution_count": 5,
   "metadata": {},
   "outputs": [],
   "source": [
    "dl = trainloader(transform=transform)"
   ]
  },
  {
   "cell_type": "code",
   "execution_count": 20,
   "metadata": {},
   "outputs": [],
   "source": [
    "img, labels = dl[0]\n",
    "img = img.unsqueeze(0)"
   ]
  },
  {
   "cell_type": "code",
   "execution_count": 43,
   "metadata": {},
   "outputs": [],
   "source": [
    "from models import EncoderCNN, DecoderRNN"
   ]
  },
  {
   "cell_type": "code",
   "execution_count": 44,
   "metadata": {},
   "outputs": [],
   "source": [
    "encoder = EncoderCNN()"
   ]
  },
  {
   "cell_type": "code",
   "execution_count": 45,
   "metadata": {},
   "outputs": [],
   "source": [
    "cnn_op = encoder(img)"
   ]
  },
  {
   "cell_type": "code",
   "execution_count": 35,
   "metadata": {},
   "outputs": [
    {
     "data": {
      "text/plain": [
       "torch.Size([11, 1, 4096])"
      ]
     },
     "execution_count": 35,
     "metadata": {},
     "output_type": "execute_result"
    }
   ],
   "source": [
    "cnn_op.shape"
   ]
  },
  {
   "cell_type": "code",
   "execution_count": 46,
   "metadata": {},
   "outputs": [],
   "source": [
    "decoder = DecoderRNN()"
   ]
  },
  {
   "cell_type": "code",
   "execution_count": 47,
   "metadata": {},
   "outputs": [
    {
     "name": "stderr",
     "output_type": "stream",
     "text": [
      "/home/deepandas11/anaconda3/envs/ml/lib/python3.7/site-packages/torch/nn/functional.py:1351: UserWarning: nn.functional.sigmoid is deprecated. Use torch.sigmoid instead.\n",
      "  warnings.warn(\"nn.functional.sigmoid is deprecated. Use torch.sigmoid instead.\")\n"
     ]
    }
   ],
   "source": [
    "lstm_op = decoder(cnn_op)"
   ]
  },
  {
   "cell_type": "code",
   "execution_count": 48,
   "metadata": {},
   "outputs": [
    {
     "data": {
      "text/plain": [
       "tensor([[0.4999]], grad_fn=<SigmoidBackward>)"
      ]
     },
     "execution_count": 48,
     "metadata": {},
     "output_type": "execute_result"
    }
   ],
   "source": [
    "lstm_op"
   ]
  },
  {
   "cell_type": "code",
   "execution_count": 58,
   "metadata": {},
   "outputs": [
    {
     "data": {
      "text/plain": [
       "False"
      ]
     },
     "execution_count": 58,
     "metadata": {},
     "output_type": "execute_result"
    }
   ],
   "source": [
    "1 + 1 == 3 and 2 / 0"
   ]
  },
  {
   "cell_type": "code",
   "execution_count": null,
   "metadata": {},
   "outputs": [],
   "source": []
  }
 ],
 "metadata": {
  "file_extension": ".py",
  "kernelspec": {
   "display_name": "Python 3",
   "language": "python",
   "name": "python3"
  },
  "language_info": {
   "codemirror_mode": {
    "name": "ipython",
    "version": 3
   },
   "file_extension": ".py",
   "mimetype": "text/x-python",
   "name": "python",
   "nbconvert_exporter": "python",
   "pygments_lexer": "ipython3",
   "version": "3.7.4"
  },
  "mimetype": "text/x-python",
  "name": "python",
  "npconvert_exporter": "python",
  "pygments_lexer": "ipython3",
  "version": 3
 },
 "nbformat": 4,
 "nbformat_minor": 2
}
